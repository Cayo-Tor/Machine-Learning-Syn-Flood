{
 "cells": [
  {
   "cell_type": "code",
   "execution_count": null,
   "id": "3bb24717",
   "metadata": {},
   "outputs": [],
   "source": [
    "import pandas as pd\n",
    "import numpy as np\n",
    "\n",
    "import itertools\n",
    "import multiprocessing as mp\n",
    "\n",
    "import findspark\n",
    "import pyspark\n",
    "\n",
    "from pyspark.sql import SparkSession\n",
    "from pyspark import SparkContext\n",
    "\n",
    "import matplotlib.pyplot as plt\n",
    "from matplotlib import style\n",
    "style.use(\"ggplot\")\n",
    "\n",
    "import scipy.cluster.hierarchy as sch\n",
    "from sklearn.cluster import KMeans\n",
    "\n",
    "from pyspark.ml.clustering import KMeans\n",
    "from pyspark.ml.evaluation import ClusteringEvaluator\n",
    "from pyspark.sql.types import StructType, StructField, NumericType\n",
    "from pyspark.sql.functions import col #To drop stuff\n",
    "\n",
    "#Changing the non-attack labels applied from clustering to 0\n",
    "#All attack traffic will be labelled as 1\n",
    "panda_df = pd.read_csv(r'C:\\Users\\cayos\\OneDrive\\Desktop\\BOUN_DDoS dataset\\BOUN_TCP_LABELS.csv')\n",
    "panda_df['label'] = panda_df['label'].replace([2], 0)\n",
    "panda_df['label'] = panda_df['label'].replace([3], 0)\n",
    "panda_df['label'] = panda_df['label'].replace([4], 0)\n",
    "panda_df['label'] = panda_df['label'].replace([5], 0)\n",
    "panda_df.to_csv(r'C:\\Users\\cayos\\OneDrive\\Desktop\\BOUN_DDoS dataset\\BOUN_TCP_NB_LABELS.csv', index=False)"
   ]
  },
  {
   "cell_type": "code",
   "execution_count": null,
   "id": "9f4a717a",
   "metadata": {},
   "outputs": [],
   "source": [
    "#Data into Spark\n",
    "#spark = SparkSession.builder.appName('BOUN_TCP_Anon').getOrCreate()\n",
    "spark = SparkSession.builder     .master('local[*]')     .config(\"spark.driver.memory\", \"15g\")     .appName('BOUN_TCP_Anon')     .getOrCreate()\n",
    "\n",
    "#READ INTO THE CSV FILE FROM THE MERGE\n",
    "Labelled_data = spark.read.csv(\n",
    "    path=r'C:\\Users\\cayos\\OneDrive\\Desktop\\BOUN_DDoS dataset\\BOUN_TCP_LABELS.csv',\n",
    "    sep=\",\",\n",
    "    header=True,\n",
    "    quote='\"',\n",
    "    inferSchema=True,\n",
    ")"
   ]
  },
  {
   "cell_type": "code",
   "execution_count": null,
   "id": "09ffc365",
   "metadata": {},
   "outputs": [],
   "source": [
    "Labelled_data_drop=['PCA_1','PCA_2', 'PCA_3', 'PCA_4', 'PCA_5' ]\n",
    "Labelled_data = Labelled_data.drop(*Labelled_data_drop)\n",
    "Labelled_data.show(5)"
   ]
  },
  {
   "cell_type": "code",
   "execution_count": null,
   "id": "793ff615",
   "metadata": {},
   "outputs": [],
   "source": [
    "from pyspark.ml.feature import StringIndexer\n",
    "from pyspark.sql.functions import col\n",
    "\n",
    "\n",
    "#Index all IP address with unique INT value from String in new column\n",
    "indexer_dst = StringIndexer(inputCol=\"Dst_IP\", outputCol=\"Dst_IP_index\")\n",
    "indexer_model = indexer_dst.fit(Labelled_data)\n",
    "indexed_data_dst= indexer_model.transform(Labelled_data)\n",
    "\n",
    "indexer_src = StringIndexer(inputCol=\"Src_ip\", outputCol=\"Src_IP_index\")\n",
    "indexer_model_src = indexer_src.fit(indexed_data_dst)\n",
    "indexed_data_src = indexer_model_src.transform(indexed_data_dst)\n",
    "\n",
    "indexer_ttl = StringIndexer(inputCol=\"TTL\", outputCol=\"TTL_index\")\n",
    "indexer_model_ttl = indexer_ttl.fit(indexed_data_src)\n",
    "indexed_data = indexer_model_ttl.transform(indexed_data_src)\n",
    "\n",
    "indexed_data.show(5)"
   ]
  },
  {
   "cell_type": "code",
   "execution_count": null,
   "id": "57f71d25",
   "metadata": {},
   "outputs": [],
   "source": [
    "#if label = 1 and IP != 10.50.199.86 drop row\n",
    "for i in range(1, len(indexed_data)):\n",
    "    if indexed_data.filter(col('label') == 1) and indexed_data.filter(col('Src_ip') != ['10.50.199.86']):\n",
    "        dropped_indexed_data = indexed_data.drop(i)\n",
    "        \n",
    "indexed_data.show(5)"
   ]
  },
  {
   "cell_type": "code",
   "execution_count": null,
   "id": "cbda1edf",
   "metadata": {},
   "outputs": [],
   "source": [
    "IP_filter6 = indexed_data1.filter(col('Dst_ip').isin(['10.50.199.86']) == True).drop()\n",
    "IP_filter7 = IP_filter6.filter(col('Dst_ip').isin(['10.50.199.86']) == False)\n",
    "IP_filter6.show(5)"
   ]
  },
  {
   "cell_type": "code",
   "execution_count": null,
   "id": "16c830bd",
   "metadata": {},
   "outputs": [],
   "source": [
    "#Extract features\n",
    "from pyspark.ml.linalg import Vectors\n",
    "from pyspark.ml.feature import VectorAssembler\n",
    "features_columns = ('SYN','Frame_lng', 'Dst_IP_index', 'TTL_index', 'ACK', 'Dst_Port',) #The columns to vecotrize intro features collumn\n",
    "\n",
    "assemble=VectorAssembler(inputCols=features_columns, outputCol='features') #Vectorize\n",
    "\n",
    "assembled_data=assemble.transform(indexed_data) #Dataframe with vectorized column\n",
    "assembled_data.show(5)\n",
    "print(assemble)"
   ]
  },
  {
   "cell_type": "code",
   "execution_count": null,
   "id": "385f2121",
   "metadata": {},
   "outputs": [],
   "source": [
    "label_features = assembled_data.drop('SYN','Frame_lng', 'Dst_IP_index', 'TTL_index', 'ACK', 'Dst_Port', 'Src_ip', 'Dst_IP', 'Src_Port', 'RST', 'TTL', 'Pro', 'Src_IP_index', 'Frame_No', 'Time')\n",
    "label_features.show(5)"
   ]
  },
  {
   "cell_type": "code",
   "execution_count": null,
   "id": "d0db2dea",
   "metadata": {},
   "outputs": [],
   "source": [
    "#Split data into training and testing set\n",
    "\n",
    "splits = label_features.randomSplit([0.7, 0.3], 1234)\n",
    "train = splits[0]\n",
    "test = splits[1]"
   ]
  },
  {
   "cell_type": "code",
   "execution_count": null,
   "id": "b4c11a92",
   "metadata": {},
   "outputs": [],
   "source": [
    "#Smoothing = 1 to account for 0 probability score of some attributes\n",
    "\n",
    "from pyspark.ml.classification import NaiveBayes\n",
    "Naive_Bayes = NaiveBayes(labelCol=\"label\",featuresCol=\"features\", smoothing=1,modelType=\"multinomial\")\n",
    "model = Naive_Bayes.fit(train)"
   ]
  },
  {
   "cell_type": "code",
   "execution_count": null,
   "id": "f7b46052",
   "metadata": {},
   "outputs": [],
   "source": [
    "predictions = model.transform(test)\n",
    "predictions.select(\"label\", \n",
    "\"probability\", \"prediction\").show(5)"
   ]
  },
  {
   "cell_type": "code",
   "execution_count": null,
   "id": "ef431680",
   "metadata": {},
   "outputs": [],
   "source": [
    "#Test set accuracy = 0.7068809374191402\n",
    "predictions.show(20000)"
   ]
  },
  {
   "cell_type": "code",
   "execution_count": null,
   "id": "d3b96a34",
   "metadata": {},
   "outputs": [],
   "source": [
    "test = predictions.filter(col('prediction').isin([1]) == True).count()\n",
    "test"
   ]
  },
  {
   "cell_type": "code",
   "execution_count": null,
   "id": "0d1a0aac",
   "metadata": {},
   "outputs": [],
   "source": [
    "#Count true predictions in classification\n",
    "IP_filter = predictions.filter(col('Dst_ip').isin('10.50.199.86') == True)\n",
    "#IP_filter = predictions.filter(col('label').isin('1') == True)\n",
    "IP_filter0 = IP_filter.filter(col('prediction').isin([0]) == True).count()\n",
    "IP_filter1 = IP_filter.filter(col('prediction').isin([1]) == True).count()\n",
    "IP_filter2 = IP_filter.filter(col('prediction').isin([2]) == True).count()\n",
    "IP_filter3 = IP_filter.filter(col('prediction').isin([3]) == True).count()\n",
    "IP_filter4 = IP_filter.filter(col('prediction').isin([4]) == True).count()\n",
    "IP_filter5 = IP_filter.filter(col('prediction').isin([5]) == True).count()\n",
    "IP_Filter_Array = [IP_filter0,IP_filter1,IP_filter2,IP_filter3,IP_filter4,IP_filter5]\n",
    "IP_Filter_Array"
   ]
  },
  {
   "cell_type": "code",
   "execution_count": null,
   "id": "4302d68c",
   "metadata": {},
   "outputs": [],
   "source": [
    "#K CLUSTERS\n",
    "\n",
    "#100% Total points: 297953\n",
    "\n",
    "#29.999% Total points: 89197\n",
    "\n",
    "#Predicted attacks: 13356\n",
    "#Correctly predicted attacks: 12987\n",
    "#False positive rate: 0.2206\n",
    "\n",
    "#Predicted legitimate: 75658\n",
    "#All correct"
   ]
  }
 ],
 "metadata": {
  "kernelspec": {
   "display_name": "Python 3 (ipykernel)",
   "language": "python",
   "name": "python3"
  },
  "language_info": {
   "codemirror_mode": {
    "name": "ipython",
    "version": 3
   },
   "file_extension": ".py",
   "mimetype": "text/x-python",
   "name": "python",
   "nbconvert_exporter": "python",
   "pygments_lexer": "ipython3",
   "version": "3.10.2"
  }
 },
 "nbformat": 4,
 "nbformat_minor": 5
}
